{
 "cells": [
  {
   "cell_type": "code",
   "execution_count": 8,
   "metadata": {},
   "outputs": [
    {
     "name": "stdout",
     "output_type": "stream",
     "text": [
      "[[47  0  2 33 18]\n",
      " [ 1  1  0 55 43]\n",
      " [ 5  1  0 71 23]\n",
      " [ 1  0  0 95  4]\n",
      " [30  0  6 42 22]]\n",
      "              precision    recall  f1-score   support\n",
      "\n",
      "           0      0.560     0.470     0.511       100\n",
      "           1      0.500     0.010     0.020       100\n",
      "           2      0.000     0.000     0.000       100\n",
      "           3      0.321     0.950     0.480       100\n",
      "           4      0.200     0.220     0.210       100\n",
      "\n",
      "    accuracy                          0.330       500\n",
      "   macro avg      0.316     0.330     0.244       500\n",
      "weighted avg      0.316     0.330     0.244       500\n",
      "\n"
     ]
    }
   ],
   "source": [
    "\n",
    "import sklearn\n",
    "from sklearn import metrics\n",
    "\n",
    "# Constants\n",
    "# A = \"Geradeaus\"\n",
    "# B = \"Kreisverkehr\"\n",
    "# C = \"Links\"\n",
    "# D = \"Rechts\"\n",
    "# E = \"Stopp\"\n",
    "\n",
    "# True values\n",
    "y_true = [0,\t0,\t0,\t0,\t0,\t0,\t0,\t0,\t0,\t0,\t0,\t0,\t0,\t0,\t0,\t0,\t0,\t0,\t0,\t0,\t0,\t0,\t0,\t0,\t0,\t0,\t0,\t0,\t0,\t0,\t0,\t0,\t0,\t0,\t0,\t0,\t0,\t0,\t0,\t0,\t0,\t0,\t0,\t0,\t0,\t0,\t0,\t0,\t0,\t0,\t0,\t0,\t0,\t0,\t0,\t0,\t0,\t0,\t0,\t0,\t0,\t0,\t0,\t0,\t0,\t0,\t0,\t0,\t0,\t0,\t0,\t0,\t0,\t0,\t0,\t0,\t0,\t0,\t0,\t0,\t0,\t0,\t0,\t0,\t0,\t0,\t0,\t0,\t0,\t0,\t0,\t0,\t0,\t0,\t0,\t0,\t0,\t0,\t0,\t0,\n",
    "          1,\t1,\t1,\t1,\t1,\t1,\t1,\t1,\t1,\t1,\t1,\t1,\t1,\t1,\t1,\t1,\t1,\t1,\t1,\t1,\t1,\t1,\t1,\t1,\t1,\t1,\t1,\t1,\t1,\t1,\t1,\t1,\t1,\t1,\t1,\t1,\t1,\t1,\t1,\t1,\t1,\t1,\t1,\t1,\t1,\t1,\t1,\t1,\t1,\t1,\t1,\t1,\t1,\t1,\t1,\t1,\t1,\t1,\t1,\t1,\t1,\t1,\t1,\t1,\t1,\t1,\t1,\t1,\t1,\t1,\t1,\t1,\t1,\t1,\t1,\t1,\t1,\t1,\t1,\t1,\t1,\t1,\t1,\t1,\t1,\t1,\t1,\t1,\t1,\t1,\t1,\t1,\t1,\t1,\t1,\t1,\t1,\t1,\t1,\t1,\n",
    "          2,\t2,\t2,\t2,\t2,\t2,\t2,\t2,\t2,\t2,\t2,\t2,\t2,\t2,\t2,\t2,\t2,\t2,\t2,\t2,\t2,\t2,\t2,\t2,\t2,\t2,\t2,\t2,\t2,\t2,\t2,\t2,\t2,\t2,\t2,\t2,\t2,\t2,\t2,\t2,\t2,\t2,\t2,\t2,\t2,\t2,\t2,\t2,\t2,\t2,\t2,\t2,\t2,\t2,\t2,\t2,\t2,\t2,\t2,\t2,\t2,\t2,\t2,\t2,\t2,\t2,\t2,\t2,\t2,\t2,\t2,\t2,\t2,\t2,\t2,\t2,\t2,\t2,\t2,\t2,\t2,\t2,\t2,\t2,\t2,\t2,\t2,\t2,\t2,\t2,\t2,\t2,\t2,\t2,\t2,\t2,\t2,\t2,\t2,\t2,\n",
    "          3,\t3,\t3,\t3,\t3,\t3,\t3,\t3,\t3,\t3,\t3,\t3,\t3,\t3,\t3,\t3,\t3,\t3,\t3,\t3,\t3,\t3,\t3,\t3,\t3,\t3,\t3,\t3,\t3,\t3,\t3,\t3,\t3,\t3,\t3,\t3,\t3,\t3,\t3,\t3,\t3,\t3,\t3,\t3,\t3,\t3,\t3,\t3,\t3,\t3,\t3,\t3,\t3,\t3,\t3,\t3,\t3,\t3,\t3,\t3,\t3,\t3,\t3,\t3,\t3,\t3,\t3,\t3,\t3,\t3,\t3,\t3,\t3,\t3,\t3,\t3,\t3,\t3,\t3,\t3,\t3,\t3,\t3,\t3,\t3,\t3,\t3,\t3,\t3,\t3,\t3,\t3,\t3,\t3,\t3,\t3,\t3,\t3,\t3,\t3,\n",
    "          4,\t4,\t4,\t4,\t4,\t4,\t4,\t4,\t4,\t4,\t4,\t4,\t4,\t4,\t4,\t4,\t4,\t4,\t4,\t4,\t4,\t4,\t4,\t4,\t4,\t4,\t4,\t4,\t4,\t4,\t4,\t4,\t4,\t4,\t4,\t4,\t4,\t4,\t4,\t4,\t4,\t4,\t4,\t4,\t4,\t4,\t4,\t4,\t4,\t4,\t4,\t4,\t4,\t4,\t4,\t4,\t4,\t4,\t4,\t4,\t4,\t4,\t4,\t4,\t4,\t4,\t4,\t4,\t4,\t4,\t4,\t4,\t4,\t4,\t4,\t4,\t4,\t4,\t4,\t4,\t4,\t4,\t4,\t4,\t4,\t4,\t4,\t4,\t4,\t4,\t4,\t4,\t4,\t4,\t4,\t4,\t4,\t4,\t4,\t4,\n",
    "         ]\n",
    "# Predicted values\n",
    "y_pred = [3,\t3,\t3,\t3,\t4,\t3,\t0,\t0,\t0,\t3,\t3,\t0,\t0,\t0,\t4,\t3,\t3,\t3,\t0,\t0,\t3,\t3,\t4,\t0,\t0,\t0,\t3,\t0,\t0,\t0,\t4,\t0,\t4,\t4,\t3,\t0,\t4,\t4,\t4,\t0,\t0,\t0,\t3,\t3,\t0,\t4,\t0,\t3,\t3,\t3,\t0,\t3,\t0,\t3,\t3,\t3,\t4,\t3,\t0,\t0,\t0,\t0,\t3,\t0,\t0,\t4,\t4,\t3,\t0,\t0,\t0,\t4,\t0,\t0,\t3,\t0,\t3,\t0,\t0,\t3,\t0,\t0,\t0,\t0,\t0,\t3,\t0,\t2,\t0,\t4,\t0,\t2,\t4,\t4,\t4,\t0,\t3,\t0,\t3,\t3,\n",
    "          4,\t4,\t4,\t3,\t4,\t3,\t4,\t4,\t3,\t3,\t4,\t3,\t4,\t3,\t3,\t4,\t3,\t4,\t3,\t4,\t3,\t4,\t4,\t4,\t4,\t4,\t4,\t4,\t4,\t3,\t4,\t1,\t4,\t3,\t4,\t3,\t4,\t4,\t4,\t4,\t3,\t4,\t4,\t4,\t4,\t3,\t0,\t4,\t4,\t4,\t3,\t3,\t3,\t3,\t3,\t4,\t3,\t3,\t4,\t3,\t3,\t3,\t4,\t3,\t4,\t3,\t3,\t3,\t3,\t3,\t3,\t3,\t3,\t3,\t3,\t4,\t3,\t4,\t3,\t4,\t3,\t3,\t4,\t3,\t3,\t3,\t3,\t3,\t3,\t3,\t3,\t3,\t4,\t3,\t3,\t3,\t3,\t3,\t3,\t4,\n",
    "          3,\t3,\t3,\t3,\t3,\t3,\t3,\t4,\t3,\t4,\t3,\t0,\t4,\t4,\t4,\t3,\t4,\t3,\t4,\t3,\t4,\t3,\t3,\t3,\t1,\t3,\t3,\t3,\t0,\t3,\t3,\t4,\t3,\t4,\t0,\t4,\t3,\t3,\t3,\t3,\t3,\t3,\t3,\t3,\t3,\t3,\t3,\t3,\t4,\t3,\t4,\t4,\t4,\t4,\t4,\t3,\t4,\t3,\t0,\t3,\t4,\t4,\t3,\t3,\t3,\t3,\t3,\t4,\t3,\t3,\t3,\t4,\t3,\t3,\t3,\t3,\t3,\t3,\t3,\t3,\t3,\t3,\t3,\t3,\t3,\t3,\t3,\t3,\t3,\t3,\t3,\t3,\t3,\t3,\t3,\t4,\t3,\t3,\t3,\t0,\n",
    "          3,\t3,\t3,\t3,\t3,\t3,\t3,\t3,\t3,\t4,\t3,\t3,\t3,\t3,\t3,\t3,\t3,\t3,\t3,\t3,\t3,\t3,\t3,\t3,\t3,\t3,\t4,\t3,\t3,\t3,\t3,\t3,\t3,\t3,\t3,\t3,\t3,\t3,\t3,\t3,\t3,\t3,\t3,\t3,\t3,\t3,\t3,\t3,\t3,\t3,\t3,\t3,\t3,\t3,\t3,\t3,\t3,\t3,\t4,\t3,\t3,\t3,\t3,\t3,\t3,\t3,\t3,\t3,\t3,\t3,\t3,\t3,\t3,\t3,\t3,\t4,\t3,\t3,\t3,\t3,\t3,\t3,\t3,\t3,\t3,\t3,\t3,\t3,\t3,\t3,\t0,\t3,\t3,\t3,\t3,\t3,\t3,\t3,\t3,\t3,\n",
    "          3,\t4,\t3,\t3,\t3,\t3,\t0,\t4,\t0,\t4,\t0,\t3,\t4,\t0,\t4,\t3,\t0,\t3,\t0,\t0,\t3,\t4,\t4,\t4,\t4,\t4,\t4,\t4,\t0,\t3,\t4,\t4,\t0,\t4,\t3,\t3,\t0,\t0,\t0,\t4,\t0,\t0,\t0,\t4,\t3,\t3,\t0,\t3,\t4,\t3,\t3,\t3,\t2,\t2,\t2,\t2,\t2,\t3,\t3,\t3,\t4,\t3,\t3,\t3,\t3,\t0,\t3,\t3,\t3,\t2,\t0,\t0,\t0,\t0,\t3,\t3,\t0,\t4,\t3,\t0,\t3,\t0,\t0,\t0,\t0,\t3,\t3,\t3,\t3,\t3,\t3,\t4,\t0,\t0,\t3,\t3,\t0,\t4,\t3,\t3,\n",
    "         ]       \n",
    "\n",
    "# Print the confusion matrix\n",
    "print(metrics.confusion_matrix(y_true, y_pred))\n",
    "\n",
    "# Print the precision and recall, among other metrics\n",
    "print(metrics.classification_report(y_true, y_pred, digits=3))"
   ]
  }
 ],
 "metadata": {
  "interpreter": {
   "hash": "8917929272e16c964e618530fb21d5794534ca00b88d02119d435f1d2902292a"
  },
  "kernelspec": {
   "display_name": "Python 3.10.1 64-bit",
   "language": "python",
   "name": "python3"
  },
  "language_info": {
   "codemirror_mode": {
    "name": "ipython",
    "version": 3
   },
   "file_extension": ".py",
   "mimetype": "text/x-python",
   "name": "python",
   "nbconvert_exporter": "python",
   "pygments_lexer": "ipython3",
   "version": "3.10.1"
  },
  "orig_nbformat": 4
 },
 "nbformat": 4,
 "nbformat_minor": 2
}
