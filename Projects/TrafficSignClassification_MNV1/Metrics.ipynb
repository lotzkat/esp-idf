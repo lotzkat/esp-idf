{
 "cells": [
  {
   "cell_type": "markdown",
   "metadata": {},
   "source": [
    "Die True Values und die Prediction Values müssen per Hand eingefügt werden. "
   ]
  },
  {
   "cell_type": "code",
   "execution_count": 7,
   "metadata": {},
   "outputs": [
    {
     "name": "stdout",
     "output_type": "stream",
     "text": [
      "[[17  1  0 46 12 24]\n",
      " [24  0  0 28 16 32]\n",
      " [ 3  0 69 15 13  0]\n",
      " [23  1  7 28 41  0]\n",
      " [ 5  0  2 14 79  0]\n",
      " [ 0  0  0  0  0  0]]\n",
      "              precision    recall  f1-score   support\n",
      "\n",
      "           0      0.236     0.170     0.198       100\n",
      "           1      0.000     0.000     0.000       100\n",
      "           2      0.885     0.690     0.775       100\n",
      "           3      0.214     0.280     0.242       100\n",
      "           4      0.491     0.790     0.605       100\n",
      "           5      0.000     0.000     0.000         0\n",
      "\n",
      "    accuracy                          0.386       500\n",
      "   macro avg      0.304     0.322     0.303       500\n",
      "weighted avg      0.365     0.386     0.364       500\n",
      "\n"
     ]
    },
    {
     "name": "stderr",
     "output_type": "stream",
     "text": [
      "C:\\Users\\m-lot\\AppData\\Local\\Programs\\Python\\Python310\\lib\\site-packages\\sklearn\\metrics\\_classification.py:1318: UndefinedMetricWarning: Recall and F-score are ill-defined and being set to 0.0 in labels with no true samples. Use `zero_division` parameter to control this behavior.\n",
      "  _warn_prf(average, modifier, msg_start, len(result))\n",
      "C:\\Users\\m-lot\\AppData\\Local\\Programs\\Python\\Python310\\lib\\site-packages\\sklearn\\metrics\\_classification.py:1318: UndefinedMetricWarning: Recall and F-score are ill-defined and being set to 0.0 in labels with no true samples. Use `zero_division` parameter to control this behavior.\n",
      "  _warn_prf(average, modifier, msg_start, len(result))\n",
      "C:\\Users\\m-lot\\AppData\\Local\\Programs\\Python\\Python310\\lib\\site-packages\\sklearn\\metrics\\_classification.py:1318: UndefinedMetricWarning: Recall and F-score are ill-defined and being set to 0.0 in labels with no true samples. Use `zero_division` parameter to control this behavior.\n",
      "  _warn_prf(average, modifier, msg_start, len(result))\n"
     ]
    }
   ],
   "source": [
    "\n",
    "import sklearn\n",
    "from sklearn import metrics\n",
    "\n",
    "\n",
    "# True values\n",
    "y_true = [\n",
    "        0,\t0,\t0,\t0,\t0,\t0,\t0,\t0,\t0,\t0,\t0,\t0,\t0,\t0,\t0,\t0,\t0,\t0,\t0,\t0,\t0,\t0,\t0,\t0,\t0,\t0,\t0,\t0,\t0,\t0,\t0,\t0,\t0,\t0,\t0,\t0,\t0,\t0,\t0,\t0,\t0,\t0,\t0,\t0,\t0,\t0,\t0,\t0,\t0,\t0,\t0,\t0,\t0,\t0,\t0,\t0,\t0,\t0,\t0,\t0,\t0,\t0,\t0,\t0,\t0,\t0,\t0,\t0,\t0,\t0,\t0,\t0,\t0,\t0,\t0,\t0,\t0,\t0,\t0,\t0,\t0,\t0,\t0,\t0,\t0,\t0,\t0,\t0,\t0,\t0,\t0,\t0,\t0,\t0,\t0,\t0,\t0,\t0,\t0,\t0,\n",
    "        1,\t1,\t1,\t1,\t1,\t1,\t1,\t1,\t1,\t1,\t1,\t1,\t1,\t1,\t1,\t1,\t1,\t1,\t1,\t1,\t1,\t1,\t1,\t1,\t1,\t1,\t1,\t1,\t1,\t1,\t1,\t1,\t1,\t1,\t1,\t1,\t1,\t1,\t1,\t1,\t1,\t1,\t1,\t1,\t1,\t1,\t1,\t1,\t1,\t1,\t1,\t1,\t1,\t1,\t1,\t1,\t1,\t1,\t1,\t1,\t1,\t1,\t1,\t1,\t1,\t1,\t1,\t1,\t1,\t1,\t1,\t1,\t1,\t1,\t1,\t1,\t1,\t1,\t1,\t1,\t1,\t1,\t1,\t1,\t1,\t1,\t1,\t1,\t1,\t1,\t1,\t1,\t1,\t1,\t1,\t1,\t1,\t1,\t1,\t1,\n",
    "        2,\t2,\t2,\t2,\t2,\t2,\t2,\t2,\t2,\t2,\t2,\t2,\t2,\t2,\t2,\t2,\t2,\t2,\t2,\t2,\t2,\t2,\t2,\t2,\t2,\t2,\t2,\t2,\t2,\t2,\t2,\t2,\t2,\t2,\t2,\t2,\t2,\t2,\t2,\t2,\t2,\t2,\t2,\t2,\t2,\t2,\t2,\t2,\t2,\t2,\t2,\t2,\t2,\t2,\t2,\t2,\t2,\t2,\t2,\t2,\t2,\t2,\t2,\t2,\t2,\t2,\t2,\t2,\t2,\t2,\t2,\t2,\t2,\t2,\t2,\t2,\t2,\t2,\t2,\t2,\t2,\t2,\t2,\t2,\t2,\t2,\t2,\t2,\t2,\t2,\t2,\t2,\t2,\t2,\t2,\t2,\t2,\t2,\t2,\t2,\n",
    "        3,\t3,\t3,\t3,\t3,\t3,\t3,\t3,\t3,\t3,\t3,\t3,\t3,\t3,\t3,\t3,\t3,\t3,\t3,\t3,\t3,\t3,\t3,\t3,\t3,\t3,\t3,\t3,\t3,\t3,\t3,\t3,\t3,\t3,\t3,\t3,\t3,\t3,\t3,\t3,\t3,\t3,\t3,\t3,\t3,\t3,\t3,\t3,\t3,\t3,\t3,\t3,\t3,\t3,\t3,\t3,\t3,\t3,\t3,\t3,\t3,\t3,\t3,\t3,\t3,\t3,\t3,\t3,\t3,\t3,\t3,\t3,\t3,\t3,\t3,\t3,\t3,\t3,\t3,\t3,\t3,\t3,\t3,\t3,\t3,\t3,\t3,\t3,\t3,\t3,\t3,\t3,\t3,\t3,\t3,\t3,\t3,\t3,\t3,\t3,\n",
    "        4,\t4,\t4,\t4,\t4,\t4,\t4,\t4,\t4,\t4,\t4,\t4,\t4,\t4,\t4,\t4,\t4,\t4,\t4,\t4,\t4,\t4,\t4,\t4,\t4,\t4,\t4,\t4,\t4,\t4,\t4,\t4,\t4,\t4,\t4,\t4,\t4,\t4,\t4,\t4,\t4,\t4,\t4,\t4,\t4,\t4,\t4,\t4,\t4,\t4,\t4,\t4,\t4,\t4,\t4,\t4,\t4,\t4,\t4,\t4,\t4,\t4,\t4,\t4,\t4,\t4,\t4,\t4,\t4,\t4,\t4,\t4,\t4,\t4,\t4,\t4,\t4,\t4,\t4,\t4,\t4,\t4,\t4,\t4,\t4,\t4,\t4,\t4,\t4,\t4,\t4,\t4,\t4,\t4,\t4,\t4,\t4,\t4,\t4,\t4,\n",
    "        ]\n",
    "# Predicted values\n",
    "y_pred = [\n",
    "        5,\t5,\t4,\t5,\t3,\t4,\t5,\t4,\t5,\t3,\t0,\t3,\t5,\t0,\t3,\t3,\t3,\t0,\t3,\t3,\t0,\t3,\t3,\t3,\t0,\t5,\t3,\t3,\t1,\t0,\t3,\t0,\t3,\t0,\t3,\t3,\t3,\t3,\t0,\t3,\t3,\t3,\t0,\t3,\t5,\t4,\t3,\t3,\t3,\t4,\t4,\t3,\t3,\t3,\t4,\t3,\t3,\t3,\t4,\t5,\t5,\t3,\t5,\t5,\t5,\t5,\t3,\t3,\t3,\t5,\t0,\t0,\t0,\t0,\t5,\t3,\t5,\t5,\t0,\t0,\t3,\t5,\t5,\t5,\t4,\t0,\t3,\t5,\t3,\t3,\t5,\t5,\t4,\t3,\t3,\t3,\t4,\t4,\t3,\t3,\n",
    "        0,\t3,\t3,\t0,\t0,\t3,\t0,\t3,\t0,\t5,\t5,\t3,\t3,\t5,\t5,\t5,\t5,\t0,\t0,\t4,\t4,\t4,\t4,\t4,\t0,\t4,\t4,\t4,\t4,\t4,\t4,\t4,\t4,\t4,\t4,\t4,\t3,\t3,\t3,\t5,\t5,\t5,\t5,\t5,\t5,\t5,\t3,\t5,\t0,\t3,\t5,\t3,\t3,\t5,\t5,\t5,\t3,\t5,\t5,\t5,\t5,\t3,\t3,\t5,\t5,\t3,\t3,\t3,\t3,\t5,\t3,\t0,\t5,\t5,\t5,\t5,\t3,\t5,\t5,\t5,\t0,\t0,\t0,\t0,\t3,\t3,\t0,\t0,\t3,\t0,\t3,\t3,\t3,\t0,\t0,\t0,\t0,\t0,\t0,\t0,\n",
    "        0,\t3,\t4,\t4,\t4,\t4,\t3,\t3,\t0,\t2,\t3,\t3,\t3,\t3,\t3,\t3,\t3,\t3,\t3,\t3,\t2,\t2,\t2,\t4,\t3,\t3,\t4,\t2,\t2,\t2,\t2,\t2,\t4,\t2,\t2,\t2,\t2,\t2,\t2,\t2,\t4,\t4,\t2,\t2,\t2,\t2,\t2,\t2,\t2,\t2,\t2,\t2,\t2,\t4,\t2,\t2,\t2,\t2,\t2,\t2,\t2,\t2,\t2,\t2,\t4,\t2,\t2,\t2,\t0,\t2,\t2,\t2,\t2,\t2,\t2,\t2,\t2,\t2,\t2,\t2,\t2,\t2,\t4,\t2,\t4,\t2,\t2,\t2,\t2,\t2,\t2,\t2,\t2,\t2,\t2,\t2,\t2,\t2,\t2,\t2,\n",
    "        0,\t1,\t0,\t4,\t4,\t4,\t3,\t4,\t4,\t0,\t4,\t3,\t4,\t4,\t4,\t4,\t4,\t4,\t4,\t3,\t0,\t4,\t0,\t4,\t4,\t4,\t4,\t4,\t4,\t4,\t3,\t0,\t4,\t3,\t3,\t4,\t4,\t4,\t4,\t4,\t3,\t3,\t0,\t4,\t4,\t4,\t4,\t0,\t4,\t4,\t4,\t4,\t3,\t4,\t4,\t3,\t4,\t4,\t0,\t0,\t3,\t0,\t2,\t0,\t2,\t0,\t4,\t0,\t3,\t0,\t3,\t3,\t3,\t0,\t3,\t3,\t3,\t0,\t3,\t3,\t3,\t0,\t3,\t3,\t0,\t0,\t0,\t0,\t0,\t3,\t3,\t3,\t3,\t3,\t2,\t4,\t2,\t2,\t2,\t2,\n",
    "        3,\t4,\t4,\t4,\t3,\t4,\t4,\t4,\t4,\t2,\t3,\t3,\t0,\t3,\t4,\t4,\t0,\t3,\t4,\t0,\t2,\t0,\t4,\t4,\t3,\t4,\t4,\t4,\t4,\t4,\t4,\t4,\t4,\t4,\t4,\t4,\t3,\t4,\t4,\t4,\t4,\t4,\t4,\t4,\t4,\t4,\t4,\t4,\t4,\t3,\t4,\t4,\t4,\t4,\t4,\t4,\t4,\t4,\t4,\t4,\t4,\t4,\t4,\t4,\t4,\t4,\t4,\t3,\t4,\t4,\t3,\t4,\t4,\t4,\t4,\t4,\t4,\t4,\t4,\t4,\t4,\t4,\t4,\t4,\t4,\t4,\t0,\t4,\t4,\t3,\t3,\t4,\t4,\t4,\t4,\t4,\t4,\t4,\t3,\t4,\n",
    "        ]              \n",
    "\n",
    "\n",
    "# Print the confusion matrix\n",
    "print(metrics.confusion_matrix(y_true, y_pred))\n",
    "\n",
    "# Print the precision and recall, among other metrics\n",
    "print(metrics.classification_report(y_true, y_pred, digits=3,))"
   ]
  }
 ],
 "metadata": {
  "interpreter": {
   "hash": "8917929272e16c964e618530fb21d5794534ca00b88d02119d435f1d2902292a"
  },
  "kernelspec": {
   "display_name": "Python 3.10.1 64-bit",
   "language": "python",
   "name": "python3"
  },
  "language_info": {
   "codemirror_mode": {
    "name": "ipython",
    "version": 3
   },
   "file_extension": ".py",
   "mimetype": "text/x-python",
   "name": "python",
   "nbconvert_exporter": "python",
   "pygments_lexer": "ipython3",
   "version": "3.10.1"
  },
  "orig_nbformat": 4
 },
 "nbformat": 4,
 "nbformat_minor": 2
}
